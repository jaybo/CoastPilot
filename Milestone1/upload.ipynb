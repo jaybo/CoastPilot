{
 "metadata": {
  "language_info": {
   "codemirror_mode": {
    "name": "ipython",
    "version": 3
   },
   "file_extension": ".py",
   "mimetype": "text/x-python",
   "name": "python",
   "nbconvert_exporter": "python",
   "pygments_lexer": "ipython3",
   "version": "3.7.0-final"
  },
  "orig_nbformat": 2,
  "kernelspec": {
   "name": "python3",
   "display_name": "Python 3",
   "language": "python"
  }
 },
 "nbformat": 4,
 "nbformat_minor": 2,
 "cells": [
  {
   "cell_type": "code",
   "execution_count": 36,
   "metadata": {},
   "outputs": [],
   "source": [
    "#!/usr/bin/env python\n",
    "# coding: utf-8\n",
    "\n",
    "##########################################################################################\n",
    "#### Import libraries\n",
    "import requests\n",
    "import json\n",
    "import os\n",
    "from zipfile import ZipFile\n",
    "import xml.etree.ElementTree as ET\n",
    "import pandas as pd\n",
    "import glob\n",
    "import numpy as np\n",
    "import re\n",
    "import shutil\n",
    "import csv"
   ]
  },
  {
   "cell_type": "code",
   "execution_count": 37,
   "metadata": {},
   "outputs": [
    {
     "output_type": "stream",
     "name": "stdout",
     "text": [
      "d:\\devGit\\CoastPilot\\Milestone1\n"
     ]
    }
   ],
   "source": [
    "print(os.getcwd())\n",
    "\n",
    "df = pd.read_csv(\n",
    "    \"D:/devGit/CoastPilot/_deepzoom_database_output.csv\",\n",
    "    escapechar=\"\\\\\")"
   ]
  },
  {
   "cell_type": "code",
   "execution_count": 38,
   "metadata": {},
   "outputs": [
    {
     "output_type": "execute_result",
     "data": {
      "text/plain": [
       "   source_id  feature_name feature_class  lat_dec  long_dec  elev_in_m  \\\n",
       "0     359188      Hilo Bay           Bay  19.7378 -155.0794        0.0   \n",
       "1    1139611   Chetco Cove           Bay  42.0426 -124.2729        0.0   \n",
       "2    1142784   Goat Island        Island  42.0657 -124.3226       37.0   \n",
       "3    1139346  Cape Ferrelo          Cape  42.1024 -124.3506       76.0   \n",
       "4    1134644   Yellow Rock        Island  42.0462 -124.2743        1.0   \n",
       "\n",
       "  elev_in_ft                                          paragraph  \n",
       "0        0.0  <p class=\"cp_paragraph\"><span class=\"cp_parain...  \n",
       "1        0.0  <p class=\"cp_paragraph\"><span class=\"cp_parain...  \n",
       "2  121.39108  <p class=\"cp_paragraph\"><span class=\"cp_parain...  \n",
       "3  249.34384  <p class=\"cp_paragraph\"><span class=\"cp_parain...  \n",
       "4    3.28084  <p class=\"cp_paragraph\"><span class=\"cp_parain...  "
      ],
      "text/html": "<div>\n<style scoped>\n    .dataframe tbody tr th:only-of-type {\n        vertical-align: middle;\n    }\n\n    .dataframe tbody tr th {\n        vertical-align: top;\n    }\n\n    .dataframe thead th {\n        text-align: right;\n    }\n</style>\n<table border=\"1\" class=\"dataframe\">\n  <thead>\n    <tr style=\"text-align: right;\">\n      <th></th>\n      <th>source_id</th>\n      <th>feature_name</th>\n      <th>feature_class</th>\n      <th>lat_dec</th>\n      <th>long_dec</th>\n      <th>elev_in_m</th>\n      <th>elev_in_ft</th>\n      <th>paragraph</th>\n    </tr>\n  </thead>\n  <tbody>\n    <tr>\n      <th>0</th>\n      <td>359188</td>\n      <td>Hilo Bay</td>\n      <td>Bay</td>\n      <td>19.7378</td>\n      <td>-155.0794</td>\n      <td>0.0</td>\n      <td>0.0</td>\n      <td>&lt;p class=\"cp_paragraph\"&gt;&lt;span class=\"cp_parain...</td>\n    </tr>\n    <tr>\n      <th>1</th>\n      <td>1139611</td>\n      <td>Chetco Cove</td>\n      <td>Bay</td>\n      <td>42.0426</td>\n      <td>-124.2729</td>\n      <td>0.0</td>\n      <td>0.0</td>\n      <td>&lt;p class=\"cp_paragraph\"&gt;&lt;span class=\"cp_parain...</td>\n    </tr>\n    <tr>\n      <th>2</th>\n      <td>1142784</td>\n      <td>Goat Island</td>\n      <td>Island</td>\n      <td>42.0657</td>\n      <td>-124.3226</td>\n      <td>37.0</td>\n      <td>121.39108</td>\n      <td>&lt;p class=\"cp_paragraph\"&gt;&lt;span class=\"cp_parain...</td>\n    </tr>\n    <tr>\n      <th>3</th>\n      <td>1139346</td>\n      <td>Cape Ferrelo</td>\n      <td>Cape</td>\n      <td>42.1024</td>\n      <td>-124.3506</td>\n      <td>76.0</td>\n      <td>249.34384</td>\n      <td>&lt;p class=\"cp_paragraph\"&gt;&lt;span class=\"cp_parain...</td>\n    </tr>\n    <tr>\n      <th>4</th>\n      <td>1134644</td>\n      <td>Yellow Rock</td>\n      <td>Island</td>\n      <td>42.0462</td>\n      <td>-124.2743</td>\n      <td>1.0</td>\n      <td>3.28084</td>\n      <td>&lt;p class=\"cp_paragraph\"&gt;&lt;span class=\"cp_parain...</td>\n    </tr>\n  </tbody>\n</table>\n</div>"
     },
     "metadata": {},
     "execution_count": 38
    }
   ],
   "source": [
    "df.head()"
   ]
  },
  {
   "cell_type": "code",
   "execution_count": 39,
   "metadata": {},
   "outputs": [
    {
     "output_type": "execute_result",
     "data": {
      "text/plain": [
       "Index(['source_id', 'feature_name', 'feature_class', 'lat_dec', 'long_dec',\n",
       "       'elev_in_m', 'elev_in_ft', 'paragraph'],\n",
       "      dtype='object')"
      ]
     },
     "metadata": {},
     "execution_count": 39
    }
   ],
   "source": [
    "df.columns"
   ]
  },
  {
   "cell_type": "code",
   "execution_count": 40,
   "metadata": {},
   "outputs": [],
   "source": [
    "features = [\"Bay\", \"Canal\", \"Cape\", \"Channel\", \"River\", \"Stream\"]\n",
    "home = df[(df[\"lat_dec\"] > 46) & (df[\"lat_dec\"] < 48) & (df[\"long_dec\"] < -121) & (df[\"long_dec\"] > -124) & (df[\"feature_class\"].isin(features)) ]\n"
   ]
  },
  {
   "cell_type": "code",
   "execution_count": 41,
   "metadata": {},
   "outputs": [
    {
     "output_type": "execute_result",
     "data": {
      "text/plain": [
       "     source_id       feature_name feature_class  lat_dec  long_dec  elev_in_m  \\\n",
       "144    1124623    Necanicum River        Stream  46.0115 -123.9274        2.0   \n",
       "152    1125500        Point Adams          Cape  46.2120 -123.9710        2.0   \n",
       "156    1533028          Baker Bay           Bay  46.2948 -123.9893        0.0   \n",
       "162    1127030  Skipanon Waterway         Canal  46.1765 -123.9104        2.0   \n",
       "165    1127129        Smith Point          Cape  46.1832 -123.8615        3.0   \n",
       "\n",
       "    elev_in_ft                                          paragraph  \n",
       "144    6.56168  <p class=\"cp_paragraph\"><span class=\"cp_parain...  \n",
       "152    6.56168  <p class=\"cp_paragraph\"><span class=\"cp_parain...  \n",
       "156        0.0  <p class=\"cp_paragraph\"><span class=\"cp_parain...  \n",
       "162    6.56168  <p class=\"cp_paragraph\"><span class=\"cp_parain...  \n",
       "165    9.84252  <p class=\"cp_paragraph\"><span class=\"cp_parain...  "
      ],
      "text/html": "<div>\n<style scoped>\n    .dataframe tbody tr th:only-of-type {\n        vertical-align: middle;\n    }\n\n    .dataframe tbody tr th {\n        vertical-align: top;\n    }\n\n    .dataframe thead th {\n        text-align: right;\n    }\n</style>\n<table border=\"1\" class=\"dataframe\">\n  <thead>\n    <tr style=\"text-align: right;\">\n      <th></th>\n      <th>source_id</th>\n      <th>feature_name</th>\n      <th>feature_class</th>\n      <th>lat_dec</th>\n      <th>long_dec</th>\n      <th>elev_in_m</th>\n      <th>elev_in_ft</th>\n      <th>paragraph</th>\n    </tr>\n  </thead>\n  <tbody>\n    <tr>\n      <th>144</th>\n      <td>1124623</td>\n      <td>Necanicum River</td>\n      <td>Stream</td>\n      <td>46.0115</td>\n      <td>-123.9274</td>\n      <td>2.0</td>\n      <td>6.56168</td>\n      <td>&lt;p class=\"cp_paragraph\"&gt;&lt;span class=\"cp_parain...</td>\n    </tr>\n    <tr>\n      <th>152</th>\n      <td>1125500</td>\n      <td>Point Adams</td>\n      <td>Cape</td>\n      <td>46.2120</td>\n      <td>-123.9710</td>\n      <td>2.0</td>\n      <td>6.56168</td>\n      <td>&lt;p class=\"cp_paragraph\"&gt;&lt;span class=\"cp_parain...</td>\n    </tr>\n    <tr>\n      <th>156</th>\n      <td>1533028</td>\n      <td>Baker Bay</td>\n      <td>Bay</td>\n      <td>46.2948</td>\n      <td>-123.9893</td>\n      <td>0.0</td>\n      <td>0.0</td>\n      <td>&lt;p class=\"cp_paragraph\"&gt;&lt;span class=\"cp_parain...</td>\n    </tr>\n    <tr>\n      <th>162</th>\n      <td>1127030</td>\n      <td>Skipanon Waterway</td>\n      <td>Canal</td>\n      <td>46.1765</td>\n      <td>-123.9104</td>\n      <td>2.0</td>\n      <td>6.56168</td>\n      <td>&lt;p class=\"cp_paragraph\"&gt;&lt;span class=\"cp_parain...</td>\n    </tr>\n    <tr>\n      <th>165</th>\n      <td>1127129</td>\n      <td>Smith Point</td>\n      <td>Cape</td>\n      <td>46.1832</td>\n      <td>-123.8615</td>\n      <td>3.0</td>\n      <td>9.84252</td>\n      <td>&lt;p class=\"cp_paragraph\"&gt;&lt;span class=\"cp_parain...</td>\n    </tr>\n  </tbody>\n</table>\n</div>"
     },
     "metadata": {},
     "execution_count": 41
    }
   ],
   "source": [
    "home.head()"
   ]
  },
  {
   "cell_type": "code",
   "execution_count": 43,
   "metadata": {},
   "outputs": [
    {
     "output_type": "execute_result",
     "data": {
      "text/plain": [
       "190"
      ]
     },
     "metadata": {},
     "execution_count": 43
    }
   ],
   "source": [
    "len(home.index)"
   ]
  },
  {
   "cell_type": "code",
   "execution_count": 115,
   "metadata": {},
   "outputs": [],
   "source": [
    "auth = requests.auth.HTTPBasicAuth('arnie', 'snarf')\n",
    "\n",
    "url = \"https://localhost:44346/api/v1/data/markersPublic\"\n",
    "#url = \"https://deepzoom-test.azurewebsites.net/api/v1/data/markersPublic\"\n",
    "cer = \"D:/devGit/CoastPilot/cert.pem\"\n",
    "key = \"D:/devGit/CoastPilot/key.pem\"\n",
    "\n",
    "def upload(row):\n",
    "    id = \"GNIS\" + str(row[\"source_id\"])\n",
    "    coordinates = [row[\"long_dec\"], row[\"lat_dec\"]]\n",
    "    properties = {\n",
    "        \"isMarker\": True,\n",
    "        \"access\": \"public\",\n",
    "        \"name\": row[\"feature_name\"],\n",
    "        \"icon\": \"coastpilot\",\n",
    "        \"id\": id\n",
    "    }\n",
    "    doc = row[\"paragraph\"]\n",
    "\n",
    "    marker = {\n",
    "        \"id\": id,\n",
    "        \"type\": \"Feature\",\n",
    "        \"geometry\": {\n",
    "            \"type\": \"Point\",\n",
    "            \"coordinates\": coordinates,\n",
    "        },\n",
    "        \"properties\": properties\n",
    "    }\n",
    "    payload = {\n",
    "        \"id\": id,\n",
    "        \"point\": marker,\n",
    "        \"doc\": doc,\n",
    "    }\n",
    "\n",
    "    header = {\"Content-type\": \"application/json\"} \n",
    "\n",
    "    response = requests.post(url, data=payload, headers=header, auth=auth, cert=(cer, key))\n",
    "    print (response.status_code, payload)\n",
    "    # response_json = response_decoded_json.json()"
   ]
  },
  {
   "cell_type": "code",
   "execution_count": 114,
   "metadata": {
    "tags": []
   },
   "outputs": [
    {
     "output_type": "error",
     "ename": "SSLError",
     "evalue": "HTTPSConnectionPool(host='localhost', port=44346): Max retries exceeded with url: /api/v1/data/markersPublic (Caused by SSLError(SSLError(336265225, '[SSL] PEM lib (_ssl.c:3738)')))",
     "traceback": [
      "\u001b[1;31m---------------------------------------------------------------------------\u001b[0m",
      "\u001b[1;31mSSLError\u001b[0m                                  Traceback (most recent call last)",
      "\u001b[1;32mC:\\Python3.6\\lib\\site-packages\\urllib3\\connectionpool.py\u001b[0m in \u001b[0;36murlopen\u001b[1;34m(self, method, url, body, headers, retries, redirect, assert_same_host, timeout, pool_timeout, release_conn, chunked, body_pos, **response_kw)\u001b[0m\n\u001b[0;32m    599\u001b[0m                                                   \u001b[0mbody\u001b[0m\u001b[1;33m=\u001b[0m\u001b[0mbody\u001b[0m\u001b[1;33m,\u001b[0m \u001b[0mheaders\u001b[0m\u001b[1;33m=\u001b[0m\u001b[0mheaders\u001b[0m\u001b[1;33m,\u001b[0m\u001b[1;33m\u001b[0m\u001b[0m\n\u001b[1;32m--> 600\u001b[1;33m                                                   chunked=chunked)\n\u001b[0m\u001b[0;32m    601\u001b[0m \u001b[1;33m\u001b[0m\u001b[0m\n",
      "\u001b[1;32mC:\\Python3.6\\lib\\site-packages\\urllib3\\connectionpool.py\u001b[0m in \u001b[0;36m_make_request\u001b[1;34m(self, conn, method, url, timeout, chunked, **httplib_request_kw)\u001b[0m\n\u001b[0;32m    342\u001b[0m         \u001b[1;32mtry\u001b[0m\u001b[1;33m:\u001b[0m\u001b[1;33m\u001b[0m\u001b[0m\n\u001b[1;32m--> 343\u001b[1;33m             \u001b[0mself\u001b[0m\u001b[1;33m.\u001b[0m\u001b[0m_validate_conn\u001b[0m\u001b[1;33m(\u001b[0m\u001b[0mconn\u001b[0m\u001b[1;33m)\u001b[0m\u001b[1;33m\u001b[0m\u001b[0m\n\u001b[0m\u001b[0;32m    344\u001b[0m         \u001b[1;32mexcept\u001b[0m \u001b[1;33m(\u001b[0m\u001b[0mSocketTimeout\u001b[0m\u001b[1;33m,\u001b[0m \u001b[0mBaseSSLError\u001b[0m\u001b[1;33m)\u001b[0m \u001b[1;32mas\u001b[0m \u001b[0me\u001b[0m\u001b[1;33m:\u001b[0m\u001b[1;33m\u001b[0m\u001b[0m\n",
      "\u001b[1;32mC:\\Python3.6\\lib\\site-packages\\urllib3\\connectionpool.py\u001b[0m in \u001b[0;36m_validate_conn\u001b[1;34m(self, conn)\u001b[0m\n\u001b[0;32m    848\u001b[0m         \u001b[1;32mif\u001b[0m \u001b[1;32mnot\u001b[0m \u001b[0mgetattr\u001b[0m\u001b[1;33m(\u001b[0m\u001b[0mconn\u001b[0m\u001b[1;33m,\u001b[0m \u001b[1;34m'sock'\u001b[0m\u001b[1;33m,\u001b[0m \u001b[1;32mNone\u001b[0m\u001b[1;33m)\u001b[0m\u001b[1;33m:\u001b[0m  \u001b[1;31m# AppEngine might not have  `.sock`\u001b[0m\u001b[1;33m\u001b[0m\u001b[0m\n\u001b[1;32m--> 849\u001b[1;33m             \u001b[0mconn\u001b[0m\u001b[1;33m.\u001b[0m\u001b[0mconnect\u001b[0m\u001b[1;33m(\u001b[0m\u001b[1;33m)\u001b[0m\u001b[1;33m\u001b[0m\u001b[0m\n\u001b[0m\u001b[0;32m    850\u001b[0m \u001b[1;33m\u001b[0m\u001b[0m\n",
      "\u001b[1;32mC:\\Python3.6\\lib\\site-packages\\urllib3\\connection.py\u001b[0m in \u001b[0;36mconnect\u001b[1;34m(self)\u001b[0m\n\u001b[0;32m    355\u001b[0m             \u001b[0mserver_hostname\u001b[0m\u001b[1;33m=\u001b[0m\u001b[0mhostname\u001b[0m\u001b[1;33m,\u001b[0m\u001b[1;33m\u001b[0m\u001b[0m\n\u001b[1;32m--> 356\u001b[1;33m             ssl_context=context)\n\u001b[0m\u001b[0;32m    357\u001b[0m \u001b[1;33m\u001b[0m\u001b[0m\n",
      "\u001b[1;32mC:\\Python3.6\\lib\\site-packages\\urllib3\\util\\ssl_.py\u001b[0m in \u001b[0;36mssl_wrap_socket\u001b[1;34m(sock, keyfile, certfile, cert_reqs, ca_certs, server_hostname, ssl_version, ciphers, ssl_context, ca_cert_dir)\u001b[0m\n\u001b[0;32m    349\u001b[0m     \u001b[1;32mif\u001b[0m \u001b[0mcertfile\u001b[0m\u001b[1;33m:\u001b[0m\u001b[1;33m\u001b[0m\u001b[0m\n\u001b[1;32m--> 350\u001b[1;33m         \u001b[0mcontext\u001b[0m\u001b[1;33m.\u001b[0m\u001b[0mload_cert_chain\u001b[0m\u001b[1;33m(\u001b[0m\u001b[0mcertfile\u001b[0m\u001b[1;33m,\u001b[0m \u001b[0mkeyfile\u001b[0m\u001b[1;33m)\u001b[0m\u001b[1;33m\u001b[0m\u001b[0m\n\u001b[0m\u001b[0;32m    351\u001b[0m \u001b[1;33m\u001b[0m\u001b[0m\n",
      "\u001b[1;31mSSLError\u001b[0m: [SSL] PEM lib (_ssl.c:3738)",
      "\nDuring handling of the above exception, another exception occurred:\n",
      "\u001b[1;31mMaxRetryError\u001b[0m                             Traceback (most recent call last)",
      "\u001b[1;32mC:\\Python3.6\\lib\\site-packages\\requests\\adapters.py\u001b[0m in \u001b[0;36msend\u001b[1;34m(self, request, stream, timeout, verify, cert, proxies)\u001b[0m\n\u001b[0;32m    444\u001b[0m                     \u001b[0mretries\u001b[0m\u001b[1;33m=\u001b[0m\u001b[0mself\u001b[0m\u001b[1;33m.\u001b[0m\u001b[0mmax_retries\u001b[0m\u001b[1;33m,\u001b[0m\u001b[1;33m\u001b[0m\u001b[0m\n\u001b[1;32m--> 445\u001b[1;33m                     \u001b[0mtimeout\u001b[0m\u001b[1;33m=\u001b[0m\u001b[0mtimeout\u001b[0m\u001b[1;33m\u001b[0m\u001b[0m\n\u001b[0m\u001b[0;32m    446\u001b[0m                 )\n",
      "\u001b[1;32mC:\\Python3.6\\lib\\site-packages\\urllib3\\connectionpool.py\u001b[0m in \u001b[0;36murlopen\u001b[1;34m(self, method, url, body, headers, retries, redirect, assert_same_host, timeout, pool_timeout, release_conn, chunked, body_pos, **response_kw)\u001b[0m\n\u001b[0;32m    637\u001b[0m             retries = retries.increment(method, url, error=e, _pool=self,\n\u001b[1;32m--> 638\u001b[1;33m                                         _stacktrace=sys.exc_info()[2])\n\u001b[0m\u001b[0;32m    639\u001b[0m             \u001b[0mretries\u001b[0m\u001b[1;33m.\u001b[0m\u001b[0msleep\u001b[0m\u001b[1;33m(\u001b[0m\u001b[1;33m)\u001b[0m\u001b[1;33m\u001b[0m\u001b[0m\n",
      "\u001b[1;32mC:\\Python3.6\\lib\\site-packages\\urllib3\\util\\retry.py\u001b[0m in \u001b[0;36mincrement\u001b[1;34m(self, method, url, response, error, _pool, _stacktrace)\u001b[0m\n\u001b[0;32m    397\u001b[0m         \u001b[1;32mif\u001b[0m \u001b[0mnew_retry\u001b[0m\u001b[1;33m.\u001b[0m\u001b[0mis_exhausted\u001b[0m\u001b[1;33m(\u001b[0m\u001b[1;33m)\u001b[0m\u001b[1;33m:\u001b[0m\u001b[1;33m\u001b[0m\u001b[0m\n\u001b[1;32m--> 398\u001b[1;33m             \u001b[1;32mraise\u001b[0m \u001b[0mMaxRetryError\u001b[0m\u001b[1;33m(\u001b[0m\u001b[0m_pool\u001b[0m\u001b[1;33m,\u001b[0m \u001b[0murl\u001b[0m\u001b[1;33m,\u001b[0m \u001b[0merror\u001b[0m \u001b[1;32mor\u001b[0m \u001b[0mResponseError\u001b[0m\u001b[1;33m(\u001b[0m\u001b[0mcause\u001b[0m\u001b[1;33m)\u001b[0m\u001b[1;33m)\u001b[0m\u001b[1;33m\u001b[0m\u001b[0m\n\u001b[0m\u001b[0;32m    399\u001b[0m \u001b[1;33m\u001b[0m\u001b[0m\n",
      "\u001b[1;31mMaxRetryError\u001b[0m: HTTPSConnectionPool(host='localhost', port=44346): Max retries exceeded with url: /api/v1/data/markersPublic (Caused by SSLError(SSLError(336265225, '[SSL] PEM lib (_ssl.c:3738)')))",
      "\nDuring handling of the above exception, another exception occurred:\n",
      "\u001b[1;31mSSLError\u001b[0m                                  Traceback (most recent call last)",
      "\u001b[1;32m<ipython-input-114-7dd8731ae77b>\u001b[0m in \u001b[0;36m<module>\u001b[1;34m()\u001b[0m\n\u001b[0;32m      1\u001b[0m \u001b[1;32mfor\u001b[0m \u001b[0mindex\u001b[0m\u001b[1;33m,\u001b[0m \u001b[0mrow\u001b[0m \u001b[1;32min\u001b[0m \u001b[0mhome\u001b[0m\u001b[1;33m.\u001b[0m\u001b[0miterrows\u001b[0m\u001b[1;33m(\u001b[0m\u001b[1;33m)\u001b[0m\u001b[1;33m:\u001b[0m\u001b[1;33m\u001b[0m\u001b[0m\n\u001b[0;32m      2\u001b[0m     \u001b[1;31m#print(row['paragraph'])\u001b[0m\u001b[1;33m\u001b[0m\u001b[1;33m\u001b[0m\u001b[0m\n\u001b[1;32m----> 3\u001b[1;33m     \u001b[0mupload\u001b[0m\u001b[1;33m(\u001b[0m\u001b[0mrow\u001b[0m\u001b[1;33m)\u001b[0m\u001b[1;33m\u001b[0m\u001b[0m\n\u001b[0m\u001b[0;32m      4\u001b[0m     \u001b[1;32mif\u001b[0m \u001b[0mindex\u001b[0m \u001b[1;33m>\u001b[0m \u001b[1;36m3\u001b[0m\u001b[1;33m:\u001b[0m\u001b[1;33m\u001b[0m\u001b[0m\n\u001b[0;32m      5\u001b[0m         \u001b[1;32mbreak\u001b[0m\u001b[1;33m\u001b[0m\u001b[0m\n",
      "\u001b[1;32m<ipython-input-113-682619cd0278>\u001b[0m in \u001b[0;36mupload\u001b[1;34m(row)\u001b[0m\n\u001b[0;32m     34\u001b[0m     \u001b[0mheader\u001b[0m \u001b[1;33m=\u001b[0m \u001b[1;33m{\u001b[0m\u001b[1;34m\"Content-type\"\u001b[0m\u001b[1;33m:\u001b[0m \u001b[1;34m\"application/json\"\u001b[0m\u001b[1;33m}\u001b[0m\u001b[1;33m\u001b[0m\u001b[0m\n\u001b[0;32m     35\u001b[0m \u001b[1;33m\u001b[0m\u001b[0m\n\u001b[1;32m---> 36\u001b[1;33m     \u001b[0mresponse\u001b[0m \u001b[1;33m=\u001b[0m \u001b[0mrequests\u001b[0m\u001b[1;33m.\u001b[0m\u001b[0mpost\u001b[0m\u001b[1;33m(\u001b[0m\u001b[0murl\u001b[0m\u001b[1;33m,\u001b[0m \u001b[0mdata\u001b[0m\u001b[1;33m=\u001b[0m\u001b[0mpayload\u001b[0m\u001b[1;33m,\u001b[0m \u001b[0mheaders\u001b[0m\u001b[1;33m=\u001b[0m\u001b[0mheader\u001b[0m\u001b[1;33m,\u001b[0m \u001b[0mauth\u001b[0m\u001b[1;33m=\u001b[0m\u001b[0mauth\u001b[0m\u001b[1;33m,\u001b[0m \u001b[0mcert\u001b[0m\u001b[1;33m=\u001b[0m\u001b[0mcer\u001b[0m\u001b[1;33m)\u001b[0m\u001b[1;33m\u001b[0m\u001b[0m\n\u001b[0m\u001b[0;32m     37\u001b[0m     \u001b[0mprint\u001b[0m \u001b[1;33m(\u001b[0m\u001b[0mresponse\u001b[0m\u001b[1;33m.\u001b[0m\u001b[0mstatus_code\u001b[0m\u001b[1;33m,\u001b[0m \u001b[0mpayload\u001b[0m\u001b[1;33m)\u001b[0m\u001b[1;33m\u001b[0m\u001b[0m\n\u001b[0;32m     38\u001b[0m     \u001b[1;31m# response_json = response_decoded_json.json()\u001b[0m\u001b[1;33m\u001b[0m\u001b[1;33m\u001b[0m\u001b[0m\n",
      "\u001b[1;32mC:\\Python3.6\\lib\\site-packages\\requests\\api.py\u001b[0m in \u001b[0;36mpost\u001b[1;34m(url, data, json, **kwargs)\u001b[0m\n\u001b[0;32m    110\u001b[0m     \"\"\"\n\u001b[0;32m    111\u001b[0m \u001b[1;33m\u001b[0m\u001b[0m\n\u001b[1;32m--> 112\u001b[1;33m     \u001b[1;32mreturn\u001b[0m \u001b[0mrequest\u001b[0m\u001b[1;33m(\u001b[0m\u001b[1;34m'post'\u001b[0m\u001b[1;33m,\u001b[0m \u001b[0murl\u001b[0m\u001b[1;33m,\u001b[0m \u001b[0mdata\u001b[0m\u001b[1;33m=\u001b[0m\u001b[0mdata\u001b[0m\u001b[1;33m,\u001b[0m \u001b[0mjson\u001b[0m\u001b[1;33m=\u001b[0m\u001b[0mjson\u001b[0m\u001b[1;33m,\u001b[0m \u001b[1;33m**\u001b[0m\u001b[0mkwargs\u001b[0m\u001b[1;33m)\u001b[0m\u001b[1;33m\u001b[0m\u001b[0m\n\u001b[0m\u001b[0;32m    113\u001b[0m \u001b[1;33m\u001b[0m\u001b[0m\n\u001b[0;32m    114\u001b[0m \u001b[1;33m\u001b[0m\u001b[0m\n",
      "\u001b[1;32mC:\\Python3.6\\lib\\site-packages\\requests\\api.py\u001b[0m in \u001b[0;36mrequest\u001b[1;34m(method, url, **kwargs)\u001b[0m\n\u001b[0;32m     56\u001b[0m     \u001b[1;31m# cases, and look like a memory leak in others.\u001b[0m\u001b[1;33m\u001b[0m\u001b[1;33m\u001b[0m\u001b[0m\n\u001b[0;32m     57\u001b[0m     \u001b[1;32mwith\u001b[0m \u001b[0msessions\u001b[0m\u001b[1;33m.\u001b[0m\u001b[0mSession\u001b[0m\u001b[1;33m(\u001b[0m\u001b[1;33m)\u001b[0m \u001b[1;32mas\u001b[0m \u001b[0msession\u001b[0m\u001b[1;33m:\u001b[0m\u001b[1;33m\u001b[0m\u001b[0m\n\u001b[1;32m---> 58\u001b[1;33m         \u001b[1;32mreturn\u001b[0m \u001b[0msession\u001b[0m\u001b[1;33m.\u001b[0m\u001b[0mrequest\u001b[0m\u001b[1;33m(\u001b[0m\u001b[0mmethod\u001b[0m\u001b[1;33m=\u001b[0m\u001b[0mmethod\u001b[0m\u001b[1;33m,\u001b[0m \u001b[0murl\u001b[0m\u001b[1;33m=\u001b[0m\u001b[0murl\u001b[0m\u001b[1;33m,\u001b[0m \u001b[1;33m**\u001b[0m\u001b[0mkwargs\u001b[0m\u001b[1;33m)\u001b[0m\u001b[1;33m\u001b[0m\u001b[0m\n\u001b[0m\u001b[0;32m     59\u001b[0m \u001b[1;33m\u001b[0m\u001b[0m\n\u001b[0;32m     60\u001b[0m \u001b[1;33m\u001b[0m\u001b[0m\n",
      "\u001b[1;32mC:\\Python3.6\\lib\\site-packages\\requests\\sessions.py\u001b[0m in \u001b[0;36mrequest\u001b[1;34m(self, method, url, params, data, headers, cookies, files, auth, timeout, allow_redirects, proxies, hooks, stream, verify, cert, json)\u001b[0m\n\u001b[0;32m    510\u001b[0m         }\n\u001b[0;32m    511\u001b[0m         \u001b[0msend_kwargs\u001b[0m\u001b[1;33m.\u001b[0m\u001b[0mupdate\u001b[0m\u001b[1;33m(\u001b[0m\u001b[0msettings\u001b[0m\u001b[1;33m)\u001b[0m\u001b[1;33m\u001b[0m\u001b[0m\n\u001b[1;32m--> 512\u001b[1;33m         \u001b[0mresp\u001b[0m \u001b[1;33m=\u001b[0m \u001b[0mself\u001b[0m\u001b[1;33m.\u001b[0m\u001b[0msend\u001b[0m\u001b[1;33m(\u001b[0m\u001b[0mprep\u001b[0m\u001b[1;33m,\u001b[0m \u001b[1;33m**\u001b[0m\u001b[0msend_kwargs\u001b[0m\u001b[1;33m)\u001b[0m\u001b[1;33m\u001b[0m\u001b[0m\n\u001b[0m\u001b[0;32m    513\u001b[0m \u001b[1;33m\u001b[0m\u001b[0m\n\u001b[0;32m    514\u001b[0m         \u001b[1;32mreturn\u001b[0m \u001b[0mresp\u001b[0m\u001b[1;33m\u001b[0m\u001b[0m\n",
      "\u001b[1;32mC:\\Python3.6\\lib\\site-packages\\requests\\sessions.py\u001b[0m in \u001b[0;36msend\u001b[1;34m(self, request, **kwargs)\u001b[0m\n\u001b[0;32m    620\u001b[0m \u001b[1;33m\u001b[0m\u001b[0m\n\u001b[0;32m    621\u001b[0m         \u001b[1;31m# Send the request\u001b[0m\u001b[1;33m\u001b[0m\u001b[1;33m\u001b[0m\u001b[0m\n\u001b[1;32m--> 622\u001b[1;33m         \u001b[0mr\u001b[0m \u001b[1;33m=\u001b[0m \u001b[0madapter\u001b[0m\u001b[1;33m.\u001b[0m\u001b[0msend\u001b[0m\u001b[1;33m(\u001b[0m\u001b[0mrequest\u001b[0m\u001b[1;33m,\u001b[0m \u001b[1;33m**\u001b[0m\u001b[0mkwargs\u001b[0m\u001b[1;33m)\u001b[0m\u001b[1;33m\u001b[0m\u001b[0m\n\u001b[0m\u001b[0;32m    623\u001b[0m \u001b[1;33m\u001b[0m\u001b[0m\n\u001b[0;32m    624\u001b[0m         \u001b[1;31m# Total elapsed time of the request (approximately)\u001b[0m\u001b[1;33m\u001b[0m\u001b[1;33m\u001b[0m\u001b[0m\n",
      "\u001b[1;32mC:\\Python3.6\\lib\\site-packages\\requests\\adapters.py\u001b[0m in \u001b[0;36msend\u001b[1;34m(self, request, stream, timeout, verify, cert, proxies)\u001b[0m\n\u001b[0;32m    509\u001b[0m             \u001b[1;32mif\u001b[0m \u001b[0misinstance\u001b[0m\u001b[1;33m(\u001b[0m\u001b[0me\u001b[0m\u001b[1;33m.\u001b[0m\u001b[0mreason\u001b[0m\u001b[1;33m,\u001b[0m \u001b[0m_SSLError\u001b[0m\u001b[1;33m)\u001b[0m\u001b[1;33m:\u001b[0m\u001b[1;33m\u001b[0m\u001b[0m\n\u001b[0;32m    510\u001b[0m                 \u001b[1;31m# This branch is for urllib3 v1.22 and later.\u001b[0m\u001b[1;33m\u001b[0m\u001b[1;33m\u001b[0m\u001b[0m\n\u001b[1;32m--> 511\u001b[1;33m                 \u001b[1;32mraise\u001b[0m \u001b[0mSSLError\u001b[0m\u001b[1;33m(\u001b[0m\u001b[0me\u001b[0m\u001b[1;33m,\u001b[0m \u001b[0mrequest\u001b[0m\u001b[1;33m=\u001b[0m\u001b[0mrequest\u001b[0m\u001b[1;33m)\u001b[0m\u001b[1;33m\u001b[0m\u001b[0m\n\u001b[0m\u001b[0;32m    512\u001b[0m \u001b[1;33m\u001b[0m\u001b[0m\n\u001b[0;32m    513\u001b[0m             \u001b[1;32mraise\u001b[0m \u001b[0mConnectionError\u001b[0m\u001b[1;33m(\u001b[0m\u001b[0me\u001b[0m\u001b[1;33m,\u001b[0m \u001b[0mrequest\u001b[0m\u001b[1;33m=\u001b[0m\u001b[0mrequest\u001b[0m\u001b[1;33m)\u001b[0m\u001b[1;33m\u001b[0m\u001b[0m\n",
      "\u001b[1;31mSSLError\u001b[0m: HTTPSConnectionPool(host='localhost', port=44346): Max retries exceeded with url: /api/v1/data/markersPublic (Caused by SSLError(SSLError(336265225, '[SSL] PEM lib (_ssl.c:3738)')))"
     ]
    }
   ],
   "source": [
    "for index, row in home.iterrows():\n",
    "    #print(row['paragraph'])\n",
    "    upload(row)\n",
    "    if index > 3:\n",
    "        break"
   ]
  },
  {
   "cell_type": "code",
   "execution_count": 45,
   "metadata": {},
   "outputs": [
    {
     "output_type": "execute_result",
     "data": {
      "text/plain": [
       "      source_id           feature_name feature_class  lat_dec  long_dec  \\\n",
       "144     1124623        Necanicum River        Stream  46.0115 -123.9274   \n",
       "152     1125500            Point Adams          Cape  46.2120 -123.9710   \n",
       "156     1533028              Baker Bay           Bay  46.2948 -123.9893   \n",
       "162     1127030      Skipanon Waterway         Canal  46.1765 -123.9104   \n",
       "165     1127129            Smith Point          Cape  46.1832 -123.8615   \n",
       "167     1129394             Youngs Bay           Bay  46.1748 -123.8660   \n",
       "168     1129399           Youngs River        Stream  46.1809 -123.8751   \n",
       "169     1123054  Lewis and Clark River        Stream  46.1684 -123.8629   \n",
       "170     1507513           Point Ellice          Cape  46.2432 -123.8738   \n",
       "172     1128158           Tongue Point          Cape  46.2126 -123.7579   \n",
       "173     1118693          Cathlamet Bay           Bay  46.1896 -123.7174   \n",
       "174     1158969       John Day Channel       Channel  46.1915 -123.7429   \n",
       "175     1122448         John Day Point          Cape  46.1812 -123.7396   \n",
       "176     1122449         John Day River        Stream  46.1814 -123.7406   \n",
       "177     1127240          South Channel       Channel  46.1718 -123.7046   \n",
       "179     1505248              Grays Bay           Bay  46.2846 -123.7126   \n",
       "180     1505251            Grays Point          Cape  46.2746 -123.7710   \n",
       "181     1505403       Harrington Point          Cape  46.2671 -123.6688   \n",
       "182     1504399             Deep River        Stream  46.3096 -123.7101   \n",
       "183     1507593       Portuguese Point          Cape  46.2765 -123.7607   \n",
       "184     1512832            Rocky Point          Cape  46.2887 -123.7279   \n",
       "185     1505254            Grays River        Stream  46.3029 -123.6882   \n",
       "187     1509015       Three Tree Point          Cape  46.2676 -123.5204   \n",
       "191     1502929        Abernathy Point          Cape  46.1909 -123.1676   \n",
       "193     1503863      Cathlamet Channel       Channel  46.1882 -123.3657   \n",
       "196     1128925        Westport Slough        Stream  46.1426 -123.3837   \n",
       "198     1507274          Pancake Point          Cape  46.1507 -123.3673   \n",
       "200     1128609         Wallace Slough        Stream  46.1412 -123.2973   \n",
       "201     1117455          Beaver Slough        Stream  46.1394 -123.2318   \n",
       "202     1118982       Clatskanie River        Stream  46.1207 -123.2210   \n",
       "...         ...                    ...           ...      ...       ...   \n",
       "964     1504873             Filucy Bay           Bay  47.2093 -122.7496   \n",
       "968     1504147      Cormorant Passage       Channel  47.1593 -122.6240   \n",
       "969     1506996        Nisqually Reach           Bay  47.1457 -122.7640   \n",
       "971     1533598        Nisqually River        Stream  47.1087 -122.7032   \n",
       "972     1508996          Thompson Cove           Bay  47.1273 -122.7051   \n",
       "973     1507207                Oro Bay           Bay  47.1395 -122.7062   \n",
       "974     1504065             Cole Point          Cape  47.1432 -122.6762   \n",
       "975     1506390             Lyle Point          Cape  47.1298 -122.6935   \n",
       "977     1505849          Johnson Point          Cape  47.1779 -122.8149   \n",
       "979     1505464        Henderson Inlet           Bay  47.1445 -122.8340   \n",
       "981     1503843             Case Inlet           Bay  47.2762 -122.8479   \n",
       "986     1507407      Pickering Passage       Channel  47.2645 -122.9232   \n",
       "992     1509216             Vaughn Bay           Bay  47.3401 -122.7779   \n",
       "993     1507870              Rocky Bay           Bay  47.3582 -122.7943   \n",
       "996     1525681         Sherwood Creek        Stream  47.3765 -122.8315   \n",
       "997     1507343          Peale Passage       Channel  47.1970 -122.8965   \n",
       "998     1504317           Dana Passage       Channel  47.1629 -122.8685   \n",
       "999     1503625             Budd Inlet           Bay  47.0973 -122.9115   \n",
       "1000    1510425               East Bay           Bay  47.0554 -122.8957   \n",
       "1001    1533650               West Bay           Bay  47.0526 -122.9096   \n",
       "1003    1513271              Eld Inlet           Bay  47.0826 -122.9890   \n",
       "1004    1504134           Cooper Point          Cape  47.1468 -122.9260   \n",
       "1005    1508672        Squaxin Passage       Channel  47.1801 -122.9290   \n",
       "1010    1527320           Totten Inlet           Bay  47.1557 -122.9904   \n",
       "1011    1503662            Burns Point          Cape  47.1115 -123.0449   \n",
       "1012    1507242             Oyster Bay           Bay  47.1095 -123.0707   \n",
       "1013    1525877   Little Skookum Inlet           Bay  47.1443 -123.0610   \n",
       "1014    1520488       Hammersley Inlet           Bay  47.2057 -123.0168   \n",
       "1015    1531700            Libby Point          Cape  47.2001 -122.9896   \n",
       "1016    1517771           Church Point          Cape  47.2070 -123.0124   \n",
       "\n",
       "      elev_in_m elev_in_ft                                          paragraph  \n",
       "144         2.0    6.56168  <p class=\"cp_paragraph\"><span class=\"cp_parain...  \n",
       "152         2.0    6.56168  <p class=\"cp_paragraph\"><span class=\"cp_parain...  \n",
       "156         0.0        0.0  <p class=\"cp_paragraph\"><span class=\"cp_parain...  \n",
       "162         2.0    6.56168  <p class=\"cp_paragraph\"><span class=\"cp_parain...  \n",
       "165         3.0    9.84252  <p class=\"cp_paragraph\"><span class=\"cp_parain...  \n",
       "167         2.0    6.56168  <p class=\"cp_paragraph\"><span class=\"cp_parain...  \n",
       "168         2.0    6.56168  <p class=\"cp_paragraph\"><span class=\"cp_parain...  \n",
       "169         1.0    3.28084  <p class=\"cp_paragraph\"><span class=\"cp_parain...  \n",
       "170        53.0  173.88452  <p class=\"cp_paragraph\"><span class=\"cp_parain...  \n",
       "172        18.0   59.05512  <p class=\"cp_paragraph\"><span class=\"cp_parain...  \n",
       "173         1.0    3.28084  <p class=\"cp_paragraph\"><span class=\"cp_parain...  \n",
       "174         1.0    3.28084  <p class=\"cp_paragraph\"><span class=\"cp_parain...  \n",
       "175         7.0   22.96588  <p class=\"cp_paragraph\"><span class=\"cp_parain...  \n",
       "176         1.0    3.28084  <p class=\"cp_paragraph\"><span class=\"cp_parain...  \n",
       "177         1.0    3.28084  <p class=\"cp_paragraph\"><span class=\"cp_parain...  \n",
       "179         1.0    3.28084  <p class=\"cp_paragraph\"><span class=\"cp_parain...  \n",
       "180        39.0  127.95276  <p class=\"cp_paragraph\"><span class=\"cp_parain...  \n",
       "181         5.0    16.4042  <p class=\"cp_paragraph\"><span class=\"cp_parain...  \n",
       "182         0.0        0.0  <p class=\"cp_paragraph\"><span class=\"cp_parain...  \n",
       "183        23.0   75.45932  <p class=\"cp_paragraph\"><span class=\"cp_parain...  \n",
       "184         0.0        0.0  <p class=\"cp_paragraph\"><span class=\"cp_parain...  \n",
       "185         1.0    3.28084  <p class=\"cp_paragraph\"><span class=\"cp_parain...  \n",
       "187         9.0   29.52756  <p class=\"cp_paragraph\"><span class=\"cp_parain...  \n",
       "191         2.0    6.56168  <p class=\"cp_paragraph\"><span class=\"cp_parain...  \n",
       "193         1.0    3.28084  <p class=\"cp_paragraph\"><span class=\"cp_parain...  \n",
       "196         1.0    3.28084  <p class=\"cp_paragraph\"><span class=\"cp_parain...  \n",
       "198         4.0   13.12336  <p class=\"cp_paragraph\"><span class=\"cp_parain...  \n",
       "200         1.0    3.28084  <p class=\"cp_paragraph\"><span class=\"cp_parain...  \n",
       "201         3.0    9.84252  <p class=\"cp_paragraph\"><span class=\"cp_parain...  \n",
       "202         3.0    9.84252  <p class=\"cp_paragraph\"><span class=\"cp_parain...  \n",
       "...         ...        ...                                                ...  \n",
       "964         0.0        0.0  <p class=\"cp_paragraph\"><span class=\"cp_parain...  \n",
       "968         0.0        0.0  <p class=\"cp_paragraph\"><span class=\"cp_parain...  \n",
       "969         0.0        0.0  <p class=\"cp_paragraph\"><span class=\"cp_parain...  \n",
       "971         0.0        0.0  <p class=\"cp_paragraph\"><span class=\"cp_parain...  \n",
       "972         1.0    3.28084  <p class=\"cp_paragraph\"><span class=\"cp_parain...  \n",
       "973         0.0        0.0  <p class=\"cp_paragraph\"><span class=\"cp_parain...  \n",
       "974         1.0    3.28084  <p class=\"cp_paragraph\"><span class=\"cp_parain...  \n",
       "975         4.0   13.12336  <p class=\"cp_paragraph\"><span class=\"cp_parain...  \n",
       "977         1.0    3.28084  <p class=\"cp_paragraph\"><span class=\"cp_parain...  \n",
       "979         0.0        0.0  <p class=\"cp_paragraph\"><span class=\"cp_parain...  \n",
       "981         0.0        0.0  <p class=\"cp_paragraph\"><span class=\"cp_parain...  \n",
       "986         0.0        0.0  <p class=\"cp_paragraph\"><span class=\"cp_parain...  \n",
       "992         0.0        0.0  <p class=\"cp_paragraph\"><span class=\"cp_parain...  \n",
       "993         1.0    3.28084  <p class=\"cp_paragraph\"><span class=\"cp_parain...  \n",
       "996         0.0        0.0  <p class=\"cp_paragraph\"><span class=\"cp_parain...  \n",
       "997         0.0        0.0  <p class=\"cp_paragraph\"><span class=\"cp_parain...  \n",
       "998         0.0        0.0  <p class=\"cp_paragraph\"><span class=\"cp_parain...  \n",
       "999         0.0        0.0  <p class=\"cp_paragraph\"><span class=\"cp_parain...  \n",
       "1000        0.0        0.0  <p class=\"cp_paragraph\"><span class=\"cp_parain...  \n",
       "1001        0.0        0.0  <p class=\"cp_paragraph\"><span class=\"cp_parain...  \n",
       "1003        0.0        0.0  <p class=\"cp_paragraph\"><span class=\"cp_parain...  \n",
       "1004        0.0        0.0  <p class=\"cp_paragraph\"><span class=\"cp_parain...  \n",
       "1005        0.0        0.0  <p class=\"cp_paragraph\"><span class=\"cp_parain...  \n",
       "1010        0.0        0.0  <p class=\"cp_paragraph\"><span class=\"cp_parain...  \n",
       "1011        0.0        0.0  <p class=\"cp_paragraph\"><span class=\"cp_parain...  \n",
       "1012        0.0        0.0  <p class=\"cp_paragraph\"><span class=\"cp_parain...  \n",
       "1013        0.0        0.0  <p class=\"cp_paragraph\"><span class=\"cp_parain...  \n",
       "1014        0.0        0.0  <p class=\"cp_paragraph\"><span class=\"cp_parain...  \n",
       "1015        2.0    6.56168  <p class=\"cp_paragraph\"><span class=\"cp_parain...  \n",
       "1016        0.0        0.0  <p class=\"cp_paragraph\"><span class=\"cp_parain...  \n",
       "\n",
       "[190 rows x 8 columns]"
      ],
      "text/html": "<div>\n<style scoped>\n    .dataframe tbody tr th:only-of-type {\n        vertical-align: middle;\n    }\n\n    .dataframe tbody tr th {\n        vertical-align: top;\n    }\n\n    .dataframe thead th {\n        text-align: right;\n    }\n</style>\n<table border=\"1\" class=\"dataframe\">\n  <thead>\n    <tr style=\"text-align: right;\">\n      <th></th>\n      <th>source_id</th>\n      <th>feature_name</th>\n      <th>feature_class</th>\n      <th>lat_dec</th>\n      <th>long_dec</th>\n      <th>elev_in_m</th>\n      <th>elev_in_ft</th>\n      <th>paragraph</th>\n    </tr>\n  </thead>\n  <tbody>\n    <tr>\n      <th>144</th>\n      <td>1124623</td>\n      <td>Necanicum River</td>\n      <td>Stream</td>\n      <td>46.0115</td>\n      <td>-123.9274</td>\n      <td>2.0</td>\n      <td>6.56168</td>\n      <td>&lt;p class=\"cp_paragraph\"&gt;&lt;span class=\"cp_parain...</td>\n    </tr>\n    <tr>\n      <th>152</th>\n      <td>1125500</td>\n      <td>Point Adams</td>\n      <td>Cape</td>\n      <td>46.2120</td>\n      <td>-123.9710</td>\n      <td>2.0</td>\n      <td>6.56168</td>\n      <td>&lt;p class=\"cp_paragraph\"&gt;&lt;span class=\"cp_parain...</td>\n    </tr>\n    <tr>\n      <th>156</th>\n      <td>1533028</td>\n      <td>Baker Bay</td>\n      <td>Bay</td>\n      <td>46.2948</td>\n      <td>-123.9893</td>\n      <td>0.0</td>\n      <td>0.0</td>\n      <td>&lt;p class=\"cp_paragraph\"&gt;&lt;span class=\"cp_parain...</td>\n    </tr>\n    <tr>\n      <th>162</th>\n      <td>1127030</td>\n      <td>Skipanon Waterway</td>\n      <td>Canal</td>\n      <td>46.1765</td>\n      <td>-123.9104</td>\n      <td>2.0</td>\n      <td>6.56168</td>\n      <td>&lt;p class=\"cp_paragraph\"&gt;&lt;span class=\"cp_parain...</td>\n    </tr>\n    <tr>\n      <th>165</th>\n      <td>1127129</td>\n      <td>Smith Point</td>\n      <td>Cape</td>\n      <td>46.1832</td>\n      <td>-123.8615</td>\n      <td>3.0</td>\n      <td>9.84252</td>\n      <td>&lt;p class=\"cp_paragraph\"&gt;&lt;span class=\"cp_parain...</td>\n    </tr>\n    <tr>\n      <th>167</th>\n      <td>1129394</td>\n      <td>Youngs Bay</td>\n      <td>Bay</td>\n      <td>46.1748</td>\n      <td>-123.8660</td>\n      <td>2.0</td>\n      <td>6.56168</td>\n      <td>&lt;p class=\"cp_paragraph\"&gt;&lt;span class=\"cp_parain...</td>\n    </tr>\n    <tr>\n      <th>168</th>\n      <td>1129399</td>\n      <td>Youngs River</td>\n      <td>Stream</td>\n      <td>46.1809</td>\n      <td>-123.8751</td>\n      <td>2.0</td>\n      <td>6.56168</td>\n      <td>&lt;p class=\"cp_paragraph\"&gt;&lt;span class=\"cp_parain...</td>\n    </tr>\n    <tr>\n      <th>169</th>\n      <td>1123054</td>\n      <td>Lewis and Clark River</td>\n      <td>Stream</td>\n      <td>46.1684</td>\n      <td>-123.8629</td>\n      <td>1.0</td>\n      <td>3.28084</td>\n      <td>&lt;p class=\"cp_paragraph\"&gt;&lt;span class=\"cp_parain...</td>\n    </tr>\n    <tr>\n      <th>170</th>\n      <td>1507513</td>\n      <td>Point Ellice</td>\n      <td>Cape</td>\n      <td>46.2432</td>\n      <td>-123.8738</td>\n      <td>53.0</td>\n      <td>173.88452</td>\n      <td>&lt;p class=\"cp_paragraph\"&gt;&lt;span class=\"cp_parain...</td>\n    </tr>\n    <tr>\n      <th>172</th>\n      <td>1128158</td>\n      <td>Tongue Point</td>\n      <td>Cape</td>\n      <td>46.2126</td>\n      <td>-123.7579</td>\n      <td>18.0</td>\n      <td>59.05512</td>\n      <td>&lt;p class=\"cp_paragraph\"&gt;&lt;span class=\"cp_parain...</td>\n    </tr>\n    <tr>\n      <th>173</th>\n      <td>1118693</td>\n      <td>Cathlamet Bay</td>\n      <td>Bay</td>\n      <td>46.1896</td>\n      <td>-123.7174</td>\n      <td>1.0</td>\n      <td>3.28084</td>\n      <td>&lt;p class=\"cp_paragraph\"&gt;&lt;span class=\"cp_parain...</td>\n    </tr>\n    <tr>\n      <th>174</th>\n      <td>1158969</td>\n      <td>John Day Channel</td>\n      <td>Channel</td>\n      <td>46.1915</td>\n      <td>-123.7429</td>\n      <td>1.0</td>\n      <td>3.28084</td>\n      <td>&lt;p class=\"cp_paragraph\"&gt;&lt;span class=\"cp_parain...</td>\n    </tr>\n    <tr>\n      <th>175</th>\n      <td>1122448</td>\n      <td>John Day Point</td>\n      <td>Cape</td>\n      <td>46.1812</td>\n      <td>-123.7396</td>\n      <td>7.0</td>\n      <td>22.96588</td>\n      <td>&lt;p class=\"cp_paragraph\"&gt;&lt;span class=\"cp_parain...</td>\n    </tr>\n    <tr>\n      <th>176</th>\n      <td>1122449</td>\n      <td>John Day River</td>\n      <td>Stream</td>\n      <td>46.1814</td>\n      <td>-123.7406</td>\n      <td>1.0</td>\n      <td>3.28084</td>\n      <td>&lt;p class=\"cp_paragraph\"&gt;&lt;span class=\"cp_parain...</td>\n    </tr>\n    <tr>\n      <th>177</th>\n      <td>1127240</td>\n      <td>South Channel</td>\n      <td>Channel</td>\n      <td>46.1718</td>\n      <td>-123.7046</td>\n      <td>1.0</td>\n      <td>3.28084</td>\n      <td>&lt;p class=\"cp_paragraph\"&gt;&lt;span class=\"cp_parain...</td>\n    </tr>\n    <tr>\n      <th>179</th>\n      <td>1505248</td>\n      <td>Grays Bay</td>\n      <td>Bay</td>\n      <td>46.2846</td>\n      <td>-123.7126</td>\n      <td>1.0</td>\n      <td>3.28084</td>\n      <td>&lt;p class=\"cp_paragraph\"&gt;&lt;span class=\"cp_parain...</td>\n    </tr>\n    <tr>\n      <th>180</th>\n      <td>1505251</td>\n      <td>Grays Point</td>\n      <td>Cape</td>\n      <td>46.2746</td>\n      <td>-123.7710</td>\n      <td>39.0</td>\n      <td>127.95276</td>\n      <td>&lt;p class=\"cp_paragraph\"&gt;&lt;span class=\"cp_parain...</td>\n    </tr>\n    <tr>\n      <th>181</th>\n      <td>1505403</td>\n      <td>Harrington Point</td>\n      <td>Cape</td>\n      <td>46.2671</td>\n      <td>-123.6688</td>\n      <td>5.0</td>\n      <td>16.4042</td>\n      <td>&lt;p class=\"cp_paragraph\"&gt;&lt;span class=\"cp_parain...</td>\n    </tr>\n    <tr>\n      <th>182</th>\n      <td>1504399</td>\n      <td>Deep River</td>\n      <td>Stream</td>\n      <td>46.3096</td>\n      <td>-123.7101</td>\n      <td>0.0</td>\n      <td>0.0</td>\n      <td>&lt;p class=\"cp_paragraph\"&gt;&lt;span class=\"cp_parain...</td>\n    </tr>\n    <tr>\n      <th>183</th>\n      <td>1507593</td>\n      <td>Portuguese Point</td>\n      <td>Cape</td>\n      <td>46.2765</td>\n      <td>-123.7607</td>\n      <td>23.0</td>\n      <td>75.45932</td>\n      <td>&lt;p class=\"cp_paragraph\"&gt;&lt;span class=\"cp_parain...</td>\n    </tr>\n    <tr>\n      <th>184</th>\n      <td>1512832</td>\n      <td>Rocky Point</td>\n      <td>Cape</td>\n      <td>46.2887</td>\n      <td>-123.7279</td>\n      <td>0.0</td>\n      <td>0.0</td>\n      <td>&lt;p class=\"cp_paragraph\"&gt;&lt;span class=\"cp_parain...</td>\n    </tr>\n    <tr>\n      <th>185</th>\n      <td>1505254</td>\n      <td>Grays River</td>\n      <td>Stream</td>\n      <td>46.3029</td>\n      <td>-123.6882</td>\n      <td>1.0</td>\n      <td>3.28084</td>\n      <td>&lt;p class=\"cp_paragraph\"&gt;&lt;span class=\"cp_parain...</td>\n    </tr>\n    <tr>\n      <th>187</th>\n      <td>1509015</td>\n      <td>Three Tree Point</td>\n      <td>Cape</td>\n      <td>46.2676</td>\n      <td>-123.5204</td>\n      <td>9.0</td>\n      <td>29.52756</td>\n      <td>&lt;p class=\"cp_paragraph\"&gt;&lt;span class=\"cp_parain...</td>\n    </tr>\n    <tr>\n      <th>191</th>\n      <td>1502929</td>\n      <td>Abernathy Point</td>\n      <td>Cape</td>\n      <td>46.1909</td>\n      <td>-123.1676</td>\n      <td>2.0</td>\n      <td>6.56168</td>\n      <td>&lt;p class=\"cp_paragraph\"&gt;&lt;span class=\"cp_parain...</td>\n    </tr>\n    <tr>\n      <th>193</th>\n      <td>1503863</td>\n      <td>Cathlamet Channel</td>\n      <td>Channel</td>\n      <td>46.1882</td>\n      <td>-123.3657</td>\n      <td>1.0</td>\n      <td>3.28084</td>\n      <td>&lt;p class=\"cp_paragraph\"&gt;&lt;span class=\"cp_parain...</td>\n    </tr>\n    <tr>\n      <th>196</th>\n      <td>1128925</td>\n      <td>Westport Slough</td>\n      <td>Stream</td>\n      <td>46.1426</td>\n      <td>-123.3837</td>\n      <td>1.0</td>\n      <td>3.28084</td>\n      <td>&lt;p class=\"cp_paragraph\"&gt;&lt;span class=\"cp_parain...</td>\n    </tr>\n    <tr>\n      <th>198</th>\n      <td>1507274</td>\n      <td>Pancake Point</td>\n      <td>Cape</td>\n      <td>46.1507</td>\n      <td>-123.3673</td>\n      <td>4.0</td>\n      <td>13.12336</td>\n      <td>&lt;p class=\"cp_paragraph\"&gt;&lt;span class=\"cp_parain...</td>\n    </tr>\n    <tr>\n      <th>200</th>\n      <td>1128609</td>\n      <td>Wallace Slough</td>\n      <td>Stream</td>\n      <td>46.1412</td>\n      <td>-123.2973</td>\n      <td>1.0</td>\n      <td>3.28084</td>\n      <td>&lt;p class=\"cp_paragraph\"&gt;&lt;span class=\"cp_parain...</td>\n    </tr>\n    <tr>\n      <th>201</th>\n      <td>1117455</td>\n      <td>Beaver Slough</td>\n      <td>Stream</td>\n      <td>46.1394</td>\n      <td>-123.2318</td>\n      <td>3.0</td>\n      <td>9.84252</td>\n      <td>&lt;p class=\"cp_paragraph\"&gt;&lt;span class=\"cp_parain...</td>\n    </tr>\n    <tr>\n      <th>202</th>\n      <td>1118982</td>\n      <td>Clatskanie River</td>\n      <td>Stream</td>\n      <td>46.1207</td>\n      <td>-123.2210</td>\n      <td>3.0</td>\n      <td>9.84252</td>\n      <td>&lt;p class=\"cp_paragraph\"&gt;&lt;span class=\"cp_parain...</td>\n    </tr>\n    <tr>\n      <th>...</th>\n      <td>...</td>\n      <td>...</td>\n      <td>...</td>\n      <td>...</td>\n      <td>...</td>\n      <td>...</td>\n      <td>...</td>\n      <td>...</td>\n    </tr>\n    <tr>\n      <th>964</th>\n      <td>1504873</td>\n      <td>Filucy Bay</td>\n      <td>Bay</td>\n      <td>47.2093</td>\n      <td>-122.7496</td>\n      <td>0.0</td>\n      <td>0.0</td>\n      <td>&lt;p class=\"cp_paragraph\"&gt;&lt;span class=\"cp_parain...</td>\n    </tr>\n    <tr>\n      <th>968</th>\n      <td>1504147</td>\n      <td>Cormorant Passage</td>\n      <td>Channel</td>\n      <td>47.1593</td>\n      <td>-122.6240</td>\n      <td>0.0</td>\n      <td>0.0</td>\n      <td>&lt;p class=\"cp_paragraph\"&gt;&lt;span class=\"cp_parain...</td>\n    </tr>\n    <tr>\n      <th>969</th>\n      <td>1506996</td>\n      <td>Nisqually Reach</td>\n      <td>Bay</td>\n      <td>47.1457</td>\n      <td>-122.7640</td>\n      <td>0.0</td>\n      <td>0.0</td>\n      <td>&lt;p class=\"cp_paragraph\"&gt;&lt;span class=\"cp_parain...</td>\n    </tr>\n    <tr>\n      <th>971</th>\n      <td>1533598</td>\n      <td>Nisqually River</td>\n      <td>Stream</td>\n      <td>47.1087</td>\n      <td>-122.7032</td>\n      <td>0.0</td>\n      <td>0.0</td>\n      <td>&lt;p class=\"cp_paragraph\"&gt;&lt;span class=\"cp_parain...</td>\n    </tr>\n    <tr>\n      <th>972</th>\n      <td>1508996</td>\n      <td>Thompson Cove</td>\n      <td>Bay</td>\n      <td>47.1273</td>\n      <td>-122.7051</td>\n      <td>1.0</td>\n      <td>3.28084</td>\n      <td>&lt;p class=\"cp_paragraph\"&gt;&lt;span class=\"cp_parain...</td>\n    </tr>\n    <tr>\n      <th>973</th>\n      <td>1507207</td>\n      <td>Oro Bay</td>\n      <td>Bay</td>\n      <td>47.1395</td>\n      <td>-122.7062</td>\n      <td>0.0</td>\n      <td>0.0</td>\n      <td>&lt;p class=\"cp_paragraph\"&gt;&lt;span class=\"cp_parain...</td>\n    </tr>\n    <tr>\n      <th>974</th>\n      <td>1504065</td>\n      <td>Cole Point</td>\n      <td>Cape</td>\n      <td>47.1432</td>\n      <td>-122.6762</td>\n      <td>1.0</td>\n      <td>3.28084</td>\n      <td>&lt;p class=\"cp_paragraph\"&gt;&lt;span class=\"cp_parain...</td>\n    </tr>\n    <tr>\n      <th>975</th>\n      <td>1506390</td>\n      <td>Lyle Point</td>\n      <td>Cape</td>\n      <td>47.1298</td>\n      <td>-122.6935</td>\n      <td>4.0</td>\n      <td>13.12336</td>\n      <td>&lt;p class=\"cp_paragraph\"&gt;&lt;span class=\"cp_parain...</td>\n    </tr>\n    <tr>\n      <th>977</th>\n      <td>1505849</td>\n      <td>Johnson Point</td>\n      <td>Cape</td>\n      <td>47.1779</td>\n      <td>-122.8149</td>\n      <td>1.0</td>\n      <td>3.28084</td>\n      <td>&lt;p class=\"cp_paragraph\"&gt;&lt;span class=\"cp_parain...</td>\n    </tr>\n    <tr>\n      <th>979</th>\n      <td>1505464</td>\n      <td>Henderson Inlet</td>\n      <td>Bay</td>\n      <td>47.1445</td>\n      <td>-122.8340</td>\n      <td>0.0</td>\n      <td>0.0</td>\n      <td>&lt;p class=\"cp_paragraph\"&gt;&lt;span class=\"cp_parain...</td>\n    </tr>\n    <tr>\n      <th>981</th>\n      <td>1503843</td>\n      <td>Case Inlet</td>\n      <td>Bay</td>\n      <td>47.2762</td>\n      <td>-122.8479</td>\n      <td>0.0</td>\n      <td>0.0</td>\n      <td>&lt;p class=\"cp_paragraph\"&gt;&lt;span class=\"cp_parain...</td>\n    </tr>\n    <tr>\n      <th>986</th>\n      <td>1507407</td>\n      <td>Pickering Passage</td>\n      <td>Channel</td>\n      <td>47.2645</td>\n      <td>-122.9232</td>\n      <td>0.0</td>\n      <td>0.0</td>\n      <td>&lt;p class=\"cp_paragraph\"&gt;&lt;span class=\"cp_parain...</td>\n    </tr>\n    <tr>\n      <th>992</th>\n      <td>1509216</td>\n      <td>Vaughn Bay</td>\n      <td>Bay</td>\n      <td>47.3401</td>\n      <td>-122.7779</td>\n      <td>0.0</td>\n      <td>0.0</td>\n      <td>&lt;p class=\"cp_paragraph\"&gt;&lt;span class=\"cp_parain...</td>\n    </tr>\n    <tr>\n      <th>993</th>\n      <td>1507870</td>\n      <td>Rocky Bay</td>\n      <td>Bay</td>\n      <td>47.3582</td>\n      <td>-122.7943</td>\n      <td>1.0</td>\n      <td>3.28084</td>\n      <td>&lt;p class=\"cp_paragraph\"&gt;&lt;span class=\"cp_parain...</td>\n    </tr>\n    <tr>\n      <th>996</th>\n      <td>1525681</td>\n      <td>Sherwood Creek</td>\n      <td>Stream</td>\n      <td>47.3765</td>\n      <td>-122.8315</td>\n      <td>0.0</td>\n      <td>0.0</td>\n      <td>&lt;p class=\"cp_paragraph\"&gt;&lt;span class=\"cp_parain...</td>\n    </tr>\n    <tr>\n      <th>997</th>\n      <td>1507343</td>\n      <td>Peale Passage</td>\n      <td>Channel</td>\n      <td>47.1970</td>\n      <td>-122.8965</td>\n      <td>0.0</td>\n      <td>0.0</td>\n      <td>&lt;p class=\"cp_paragraph\"&gt;&lt;span class=\"cp_parain...</td>\n    </tr>\n    <tr>\n      <th>998</th>\n      <td>1504317</td>\n      <td>Dana Passage</td>\n      <td>Channel</td>\n      <td>47.1629</td>\n      <td>-122.8685</td>\n      <td>0.0</td>\n      <td>0.0</td>\n      <td>&lt;p class=\"cp_paragraph\"&gt;&lt;span class=\"cp_parain...</td>\n    </tr>\n    <tr>\n      <th>999</th>\n      <td>1503625</td>\n      <td>Budd Inlet</td>\n      <td>Bay</td>\n      <td>47.0973</td>\n      <td>-122.9115</td>\n      <td>0.0</td>\n      <td>0.0</td>\n      <td>&lt;p class=\"cp_paragraph\"&gt;&lt;span class=\"cp_parain...</td>\n    </tr>\n    <tr>\n      <th>1000</th>\n      <td>1510425</td>\n      <td>East Bay</td>\n      <td>Bay</td>\n      <td>47.0554</td>\n      <td>-122.8957</td>\n      <td>0.0</td>\n      <td>0.0</td>\n      <td>&lt;p class=\"cp_paragraph\"&gt;&lt;span class=\"cp_parain...</td>\n    </tr>\n    <tr>\n      <th>1001</th>\n      <td>1533650</td>\n      <td>West Bay</td>\n      <td>Bay</td>\n      <td>47.0526</td>\n      <td>-122.9096</td>\n      <td>0.0</td>\n      <td>0.0</td>\n      <td>&lt;p class=\"cp_paragraph\"&gt;&lt;span class=\"cp_parain...</td>\n    </tr>\n    <tr>\n      <th>1003</th>\n      <td>1513271</td>\n      <td>Eld Inlet</td>\n      <td>Bay</td>\n      <td>47.0826</td>\n      <td>-122.9890</td>\n      <td>0.0</td>\n      <td>0.0</td>\n      <td>&lt;p class=\"cp_paragraph\"&gt;&lt;span class=\"cp_parain...</td>\n    </tr>\n    <tr>\n      <th>1004</th>\n      <td>1504134</td>\n      <td>Cooper Point</td>\n      <td>Cape</td>\n      <td>47.1468</td>\n      <td>-122.9260</td>\n      <td>0.0</td>\n      <td>0.0</td>\n      <td>&lt;p class=\"cp_paragraph\"&gt;&lt;span class=\"cp_parain...</td>\n    </tr>\n    <tr>\n      <th>1005</th>\n      <td>1508672</td>\n      <td>Squaxin Passage</td>\n      <td>Channel</td>\n      <td>47.1801</td>\n      <td>-122.9290</td>\n      <td>0.0</td>\n      <td>0.0</td>\n      <td>&lt;p class=\"cp_paragraph\"&gt;&lt;span class=\"cp_parain...</td>\n    </tr>\n    <tr>\n      <th>1010</th>\n      <td>1527320</td>\n      <td>Totten Inlet</td>\n      <td>Bay</td>\n      <td>47.1557</td>\n      <td>-122.9904</td>\n      <td>0.0</td>\n      <td>0.0</td>\n      <td>&lt;p class=\"cp_paragraph\"&gt;&lt;span class=\"cp_parain...</td>\n    </tr>\n    <tr>\n      <th>1011</th>\n      <td>1503662</td>\n      <td>Burns Point</td>\n      <td>Cape</td>\n      <td>47.1115</td>\n      <td>-123.0449</td>\n      <td>0.0</td>\n      <td>0.0</td>\n      <td>&lt;p class=\"cp_paragraph\"&gt;&lt;span class=\"cp_parain...</td>\n    </tr>\n    <tr>\n      <th>1012</th>\n      <td>1507242</td>\n      <td>Oyster Bay</td>\n      <td>Bay</td>\n      <td>47.1095</td>\n      <td>-123.0707</td>\n      <td>0.0</td>\n      <td>0.0</td>\n      <td>&lt;p class=\"cp_paragraph\"&gt;&lt;span class=\"cp_parain...</td>\n    </tr>\n    <tr>\n      <th>1013</th>\n      <td>1525877</td>\n      <td>Little Skookum Inlet</td>\n      <td>Bay</td>\n      <td>47.1443</td>\n      <td>-123.0610</td>\n      <td>0.0</td>\n      <td>0.0</td>\n      <td>&lt;p class=\"cp_paragraph\"&gt;&lt;span class=\"cp_parain...</td>\n    </tr>\n    <tr>\n      <th>1014</th>\n      <td>1520488</td>\n      <td>Hammersley Inlet</td>\n      <td>Bay</td>\n      <td>47.2057</td>\n      <td>-123.0168</td>\n      <td>0.0</td>\n      <td>0.0</td>\n      <td>&lt;p class=\"cp_paragraph\"&gt;&lt;span class=\"cp_parain...</td>\n    </tr>\n    <tr>\n      <th>1015</th>\n      <td>1531700</td>\n      <td>Libby Point</td>\n      <td>Cape</td>\n      <td>47.2001</td>\n      <td>-122.9896</td>\n      <td>2.0</td>\n      <td>6.56168</td>\n      <td>&lt;p class=\"cp_paragraph\"&gt;&lt;span class=\"cp_parain...</td>\n    </tr>\n    <tr>\n      <th>1016</th>\n      <td>1517771</td>\n      <td>Church Point</td>\n      <td>Cape</td>\n      <td>47.2070</td>\n      <td>-123.0124</td>\n      <td>0.0</td>\n      <td>0.0</td>\n      <td>&lt;p class=\"cp_paragraph\"&gt;&lt;span class=\"cp_parain...</td>\n    </tr>\n  </tbody>\n</table>\n<p>190 rows × 8 columns</p>\n</div>"
     },
     "metadata": {},
     "execution_count": 45
    }
   ],
   "source": [
    "home"
   ]
  },
  {
   "cell_type": "code",
   "execution_count": null,
   "metadata": {},
   "outputs": [],
   "source": []
  }
 ]
}